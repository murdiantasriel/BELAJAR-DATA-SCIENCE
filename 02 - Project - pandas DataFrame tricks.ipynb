{
 "cells": [
  {
   "cell_type": "markdown",
   "id": "ca6207db",
   "metadata": {},
   "source": [
    "# Project - Play with DataFrames"
   ]
  },
  {
   "cell_type": "markdown",
   "id": "18e27ccf",
   "metadata": {},
   "source": [
    "## Goal of Project\n",
    "- Master pandas DataFrame"
   ]
  },
  {
   "cell_type": "markdown",
   "id": "f5ae5cf5",
   "metadata": {},
   "source": [
    "### Step 1: Import pandas\n",
    "- Execute the cell below (SHIFT + ENTER)"
   ]
  },
  {
   "cell_type": "code",
   "execution_count": 1,
   "id": "0e2470e5",
   "metadata": {},
   "outputs": [],
   "source": [
    "import pandas as pd"
   ]
  },
  {
   "cell_type": "markdown",
   "id": "4f3c3ae2",
   "metadata": {},
   "source": [
    "### Step 2: Read the data\n",
    "- Use ```pd.read_csv()``` to read the file `files/population.csv`\n",
    "- NOTE: Remember to assign the result to a variable (e.g., ```data```)"
   ]
  },
  {
   "cell_type": "code",
   "execution_count": 2,
   "id": "ea29b7e5",
   "metadata": {},
   "outputs": [],
   "source": [
    "data=pd.read_csv('files/population.csv')"
   ]
  },
  {
   "cell_type": "markdown",
   "id": "270c2aa3",
   "metadata": {},
   "source": [
    "### Step 3: Investigate the data types\n",
    "- Use ```.dtypes``` "
   ]
  },
  {
   "cell_type": "code",
   "execution_count": 3,
   "id": "72fe183d",
   "metadata": {},
   "outputs": [
    {
     "data": {
      "text/plain": [
       "Country        object\n",
       "Year            int64\n",
       "Population    float64\n",
       "dtype: object"
      ]
     },
     "execution_count": 3,
     "metadata": {},
     "output_type": "execute_result"
    }
   ],
   "source": [
    "data.dtypes"
   ]
  },
  {
   "cell_type": "markdown",
   "id": "937105b5",
   "metadata": {},
   "source": [
    "### Step 4: Convert Year to Datetime\n",
    "- ```pd.to_datetime(...)```: Convert to a datetime\n",
    "- ```format='%Y'```: Format of input, here it is the year."
   ]
  },
  {
   "cell_type": "code",
   "execution_count": 4,
   "id": "91748734",
   "metadata": {},
   "outputs": [
    {
     "data": {
      "text/html": [
       "<div>\n",
       "<style scoped>\n",
       "    .dataframe tbody tr th:only-of-type {\n",
       "        vertical-align: middle;\n",
       "    }\n",
       "\n",
       "    .dataframe tbody tr th {\n",
       "        vertical-align: top;\n",
       "    }\n",
       "\n",
       "    .dataframe thead th {\n",
       "        text-align: right;\n",
       "    }\n",
       "</style>\n",
       "<table border=\"1\" class=\"dataframe\">\n",
       "  <thead>\n",
       "    <tr style=\"text-align: right;\">\n",
       "      <th></th>\n",
       "      <th>Country</th>\n",
       "      <th>Year</th>\n",
       "      <th>Population</th>\n",
       "    </tr>\n",
       "  </thead>\n",
       "  <tbody>\n",
       "    <tr>\n",
       "      <th>0</th>\n",
       "      <td>Denmark</td>\n",
       "      <td>2000</td>\n",
       "      <td>5.3</td>\n",
       "    </tr>\n",
       "    <tr>\n",
       "      <th>1</th>\n",
       "      <td>Denmark</td>\n",
       "      <td>2010</td>\n",
       "      <td>5.5</td>\n",
       "    </tr>\n",
       "    <tr>\n",
       "      <th>2</th>\n",
       "      <td>Denmark</td>\n",
       "      <td>2020</td>\n",
       "      <td>5.8</td>\n",
       "    </tr>\n",
       "    <tr>\n",
       "      <th>3</th>\n",
       "      <td>Sweden</td>\n",
       "      <td>2000</td>\n",
       "      <td>8.8</td>\n",
       "    </tr>\n",
       "    <tr>\n",
       "      <th>4</th>\n",
       "      <td>Sweden</td>\n",
       "      <td>2010</td>\n",
       "      <td>9.3</td>\n",
       "    </tr>\n",
       "  </tbody>\n",
       "</table>\n",
       "</div>"
      ],
      "text/plain": [
       "   Country  Year  Population\n",
       "0  Denmark  2000         5.3\n",
       "1  Denmark  2010         5.5\n",
       "2  Denmark  2020         5.8\n",
       "3   Sweden  2000         8.8\n",
       "4   Sweden  2010         9.3"
      ]
     },
     "execution_count": 4,
     "metadata": {},
     "output_type": "execute_result"
    }
   ],
   "source": [
    "data.head()"
   ]
  },
  {
   "cell_type": "code",
   "execution_count": 5,
   "id": "4dee7025",
   "metadata": {},
   "outputs": [],
   "source": [
    "data['Year']=pd.to_datetime(data['Year'],format='%Y')"
   ]
  },
  {
   "cell_type": "code",
   "execution_count": 6,
   "id": "aea3105d",
   "metadata": {},
   "outputs": [
    {
     "data": {
      "text/html": [
       "<div>\n",
       "<style scoped>\n",
       "    .dataframe tbody tr th:only-of-type {\n",
       "        vertical-align: middle;\n",
       "    }\n",
       "\n",
       "    .dataframe tbody tr th {\n",
       "        vertical-align: top;\n",
       "    }\n",
       "\n",
       "    .dataframe thead th {\n",
       "        text-align: right;\n",
       "    }\n",
       "</style>\n",
       "<table border=\"1\" class=\"dataframe\">\n",
       "  <thead>\n",
       "    <tr style=\"text-align: right;\">\n",
       "      <th></th>\n",
       "      <th>Country</th>\n",
       "      <th>Year</th>\n",
       "      <th>Population</th>\n",
       "    </tr>\n",
       "  </thead>\n",
       "  <tbody>\n",
       "    <tr>\n",
       "      <th>0</th>\n",
       "      <td>Denmark</td>\n",
       "      <td>2000-01-01</td>\n",
       "      <td>5.3</td>\n",
       "    </tr>\n",
       "    <tr>\n",
       "      <th>1</th>\n",
       "      <td>Denmark</td>\n",
       "      <td>2010-01-01</td>\n",
       "      <td>5.5</td>\n",
       "    </tr>\n",
       "    <tr>\n",
       "      <th>2</th>\n",
       "      <td>Denmark</td>\n",
       "      <td>2020-01-01</td>\n",
       "      <td>5.8</td>\n",
       "    </tr>\n",
       "    <tr>\n",
       "      <th>3</th>\n",
       "      <td>Sweden</td>\n",
       "      <td>2000-01-01</td>\n",
       "      <td>8.8</td>\n",
       "    </tr>\n",
       "    <tr>\n",
       "      <th>4</th>\n",
       "      <td>Sweden</td>\n",
       "      <td>2010-01-01</td>\n",
       "      <td>9.3</td>\n",
       "    </tr>\n",
       "    <tr>\n",
       "      <th>5</th>\n",
       "      <td>Sweden</td>\n",
       "      <td>2020-01-01</td>\n",
       "      <td>10.2</td>\n",
       "    </tr>\n",
       "  </tbody>\n",
       "</table>\n",
       "</div>"
      ],
      "text/plain": [
       "   Country       Year  Population\n",
       "0  Denmark 2000-01-01         5.3\n",
       "1  Denmark 2010-01-01         5.5\n",
       "2  Denmark 2020-01-01         5.8\n",
       "3   Sweden 2000-01-01         8.8\n",
       "4   Sweden 2010-01-01         9.3\n",
       "5   Sweden 2020-01-01        10.2"
      ]
     },
     "execution_count": 6,
     "metadata": {},
     "output_type": "execute_result"
    }
   ],
   "source": [
    "data"
   ]
  },
  {
   "cell_type": "code",
   "execution_count": 7,
   "id": "a3a6a30a",
   "metadata": {},
   "outputs": [
    {
     "data": {
      "text/plain": [
       "Country               object\n",
       "Year          datetime64[ns]\n",
       "Population           float64\n",
       "dtype: object"
      ]
     },
     "execution_count": 7,
     "metadata": {},
     "output_type": "execute_result"
    }
   ],
   "source": [
    "data.dtypes"
   ]
  },
  {
   "cell_type": "markdown",
   "id": "683f5886",
   "metadata": {},
   "source": [
    "### Step 5: Scale Population to millions\n",
    "- HINT: ```data['Population']*1000``` scales by 1000"
   ]
  },
  {
   "cell_type": "code",
   "execution_count": 12,
   "id": "a1b3c2f8",
   "metadata": {},
   "outputs": [],
   "source": [
    "data['Population']=data['Population']*1000"
   ]
  },
  {
   "cell_type": "code",
   "execution_count": null,
   "id": "09338432",
   "metadata": {},
   "outputs": [],
   "source": []
  },
  {
   "cell_type": "markdown",
   "id": "c359265d",
   "metadata": {},
   "source": [
    "### Step 6: Calculate mean population for each country\n",
    "- HINT: ```data.groupby('Country')``` groups the data"
   ]
  },
  {
   "cell_type": "code",
   "execution_count": 13,
   "id": "c2324177",
   "metadata": {},
   "outputs": [
    {
     "data": {
      "text/html": [
       "<div>\n",
       "<style scoped>\n",
       "    .dataframe tbody tr th:only-of-type {\n",
       "        vertical-align: middle;\n",
       "    }\n",
       "\n",
       "    .dataframe tbody tr th {\n",
       "        vertical-align: top;\n",
       "    }\n",
       "\n",
       "    .dataframe thead th {\n",
       "        text-align: right;\n",
       "    }\n",
       "</style>\n",
       "<table border=\"1\" class=\"dataframe\">\n",
       "  <thead>\n",
       "    <tr style=\"text-align: right;\">\n",
       "      <th></th>\n",
       "      <th>Population</th>\n",
       "    </tr>\n",
       "    <tr>\n",
       "      <th>Country</th>\n",
       "      <th></th>\n",
       "    </tr>\n",
       "  </thead>\n",
       "  <tbody>\n",
       "    <tr>\n",
       "      <th>Denmark</th>\n",
       "      <td>5533.333333</td>\n",
       "    </tr>\n",
       "    <tr>\n",
       "      <th>SW</th>\n",
       "      <td>9433.333333</td>\n",
       "    </tr>\n",
       "  </tbody>\n",
       "</table>\n",
       "</div>"
      ],
      "text/plain": [
       "          Population\n",
       "Country             \n",
       "Denmark  5533.333333\n",
       "SW       9433.333333"
      ]
     },
     "execution_count": 13,
     "metadata": {},
     "output_type": "execute_result"
    }
   ],
   "source": [
    "data.groupby('Country').mean()"
   ]
  },
  {
   "cell_type": "markdown",
   "id": "f1a39ae5",
   "metadata": {},
   "source": [
    "### Step 7: Replace Denmark to DNK\n",
    "- Given a column you can access the string functions on it with ```.str```\n",
    "    - This enables you to apply string functions on it\n",
    "    - HINT: ```data['Country'].str.replace('Denmark', 'DNK')```"
   ]
  },
  {
   "cell_type": "code",
   "execution_count": 14,
   "id": "2f3c8b19",
   "metadata": {},
   "outputs": [],
   "source": [
    "data['Country']=data['Country'].str.replace('Sweden','SW')"
   ]
  },
  {
   "cell_type": "code",
   "execution_count": 15,
   "id": "294737e2",
   "metadata": {},
   "outputs": [
    {
     "data": {
      "text/html": [
       "<div>\n",
       "<style scoped>\n",
       "    .dataframe tbody tr th:only-of-type {\n",
       "        vertical-align: middle;\n",
       "    }\n",
       "\n",
       "    .dataframe tbody tr th {\n",
       "        vertical-align: top;\n",
       "    }\n",
       "\n",
       "    .dataframe thead th {\n",
       "        text-align: right;\n",
       "    }\n",
       "</style>\n",
       "<table border=\"1\" class=\"dataframe\">\n",
       "  <thead>\n",
       "    <tr style=\"text-align: right;\">\n",
       "      <th></th>\n",
       "      <th>Country</th>\n",
       "      <th>Year</th>\n",
       "      <th>Population</th>\n",
       "    </tr>\n",
       "  </thead>\n",
       "  <tbody>\n",
       "    <tr>\n",
       "      <th>0</th>\n",
       "      <td>Denmark</td>\n",
       "      <td>2000-01-01</td>\n",
       "      <td>5300.0</td>\n",
       "    </tr>\n",
       "    <tr>\n",
       "      <th>1</th>\n",
       "      <td>Denmark</td>\n",
       "      <td>2010-01-01</td>\n",
       "      <td>5500.0</td>\n",
       "    </tr>\n",
       "    <tr>\n",
       "      <th>2</th>\n",
       "      <td>Denmark</td>\n",
       "      <td>2020-01-01</td>\n",
       "      <td>5800.0</td>\n",
       "    </tr>\n",
       "    <tr>\n",
       "      <th>3</th>\n",
       "      <td>SW</td>\n",
       "      <td>2000-01-01</td>\n",
       "      <td>8800.0</td>\n",
       "    </tr>\n",
       "    <tr>\n",
       "      <th>4</th>\n",
       "      <td>SW</td>\n",
       "      <td>2010-01-01</td>\n",
       "      <td>9300.0</td>\n",
       "    </tr>\n",
       "    <tr>\n",
       "      <th>5</th>\n",
       "      <td>SW</td>\n",
       "      <td>2020-01-01</td>\n",
       "      <td>10200.0</td>\n",
       "    </tr>\n",
       "  </tbody>\n",
       "</table>\n",
       "</div>"
      ],
      "text/plain": [
       "   Country       Year  Population\n",
       "0  Denmark 2000-01-01      5300.0\n",
       "1  Denmark 2010-01-01      5500.0\n",
       "2  Denmark 2020-01-01      5800.0\n",
       "3       SW 2000-01-01      8800.0\n",
       "4       SW 2010-01-01      9300.0\n",
       "5       SW 2020-01-01     10200.0"
      ]
     },
     "execution_count": 15,
     "metadata": {},
     "output_type": "execute_result"
    }
   ],
   "source": [
    "data"
   ]
  },
  {
   "cell_type": "code",
   "execution_count": null,
   "id": "fa9aee89",
   "metadata": {},
   "outputs": [],
   "source": []
  }
 ],
 "metadata": {
  "kernelspec": {
   "display_name": "Python 3 (ipykernel)",
   "language": "python",
   "name": "python3"
  },
  "language_info": {
   "codemirror_mode": {
    "name": "ipython",
    "version": 3
   },
   "file_extension": ".py",
   "mimetype": "text/x-python",
   "name": "python",
   "nbconvert_exporter": "python",
   "pygments_lexer": "ipython3",
   "version": "3.9.7"
  }
 },
 "nbformat": 4,
 "nbformat_minor": 5
}
