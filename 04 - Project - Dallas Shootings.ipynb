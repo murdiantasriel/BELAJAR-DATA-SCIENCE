{
 "cells": [
  {
   "cell_type": "markdown",
   "id": "71f9e4bb",
   "metadata": {},
   "source": [
    "# Project - Dallas Shootings"
   ]
  },
  {
   "cell_type": "markdown",
   "id": "1ffe56d1",
   "metadata": {},
   "source": [
    "![Data Science Workflow](img/ds-workflow.png)"
   ]
  },
  {
   "cell_type": "markdown",
   "id": "1d735137",
   "metadata": {},
   "source": [
    "## Goal of Project\n",
    "- A newspaper want a visualization of the shootings in Dallas with focus on subjects\n",
    "- We will read data from from database and join into broader datasets\n",
    "- We will explore ideas to visualize it and create a map with the shootings"
   ]
  },
  {
   "cell_type": "markdown",
   "id": "1f4f3e13",
   "metadata": {},
   "source": [
    "## Step 1: Acquire\n",
    "- Explore problem\n",
    "- Identify data\n",
    "- Import data"
   ]
  },
  {
   "cell_type": "markdown",
   "id": "e6a9cf7d",
   "metadata": {},
   "source": [
    "### Step 1.a: Import libraries\n",
    "- Execute the cell below (SHIFT + ENTER)"
   ]
  },
  {
   "cell_type": "code",
   "execution_count": 1,
   "id": "9ef81ac1",
   "metadata": {},
   "outputs": [],
   "source": [
    "import pandas as pd"
   ]
  },
  {
   "cell_type": "markdown",
   "id": "647f1fb4",
   "metadata": {},
   "source": [
    "### Step 1.b: Connect to SQLite database\n",
    "- Use `sqlite3.connect(<filename>)` to connect to the database `files/dallas-ois.sqlite`"
   ]
  },
  {
   "cell_type": "code",
   "execution_count": 3,
   "id": "dfc74a5b",
   "metadata": {},
   "outputs": [],
   "source": [
    "import sqlite3"
   ]
  },
  {
   "cell_type": "code",
   "execution_count": 4,
   "id": "33315570",
   "metadata": {},
   "outputs": [],
   "source": [
    "conn=sqlite3.connect('files/dallas-ois.sqlite')"
   ]
  },
  {
   "cell_type": "markdown",
   "id": "79daef77",
   "metadata": {},
   "source": [
    "### Step 1. c: Read data into DataFrames\n",
    "- The database consists of 3 tables: `incident`, `officers`, `subjects`\n",
    "- Read the data from each table into a DataFrame.\n",
    "- HINT: Use `pandas` `read_sql(sql_stmt, conn)`, which takes the SQL statement (`sql_stmt`) and the data base connection `conn` from previous step.\n",
    "- HINT: The structure of the SQL statement is as follows.\n",
    "```SQL \n",
    "SELECT * FROM table\n",
    "```"
   ]
  },
  {
   "cell_type": "code",
   "execution_count": 5,
   "id": "5b9118fc",
   "metadata": {},
   "outputs": [],
   "source": [
    "cursor=conn.cursor()"
   ]
  },
  {
   "cell_type": "code",
   "execution_count": 6,
   "id": "87f84188",
   "metadata": {},
   "outputs": [],
   "source": [
    "import pandas as pd"
   ]
  },
  {
   "cell_type": "code",
   "execution_count": 11,
   "id": "be33ab29",
   "metadata": {},
   "outputs": [
    {
     "data": {
      "text/plain": [
       "[(0, 'case_number', 'TEXT', 0, None, 0),\n",
       " (1, 'race', 'TEXT', 0, None, 0),\n",
       " (2, 'gender', 'TEXT', 0, None, 0),\n",
       " (3, 'last_name', 'TEXT', 0, None, 0),\n",
       " (4, 'first_name', 'TEXT', 0, None, 0),\n",
       " (5, 'full_name', 'TEXT', 0, None, 0)]"
      ]
     },
     "execution_count": 11,
     "metadata": {},
     "output_type": "execute_result"
    }
   ],
   "source": [
    "cursor.execute(\"PRAGMA table_info(officers)\").fetchall()"
   ]
  },
  {
   "cell_type": "code",
   "execution_count": null,
   "id": "d7c935a8",
   "metadata": {},
   "outputs": [],
   "source": []
  },
  {
   "cell_type": "code",
   "execution_count": 20,
   "id": "2f0eb4e8",
   "metadata": {},
   "outputs": [],
   "source": [
    "data=pd.read_sql('select*from incidents',conn)"
   ]
  },
  {
   "cell_type": "code",
   "execution_count": 21,
   "id": "55369a61",
   "metadata": {},
   "outputs": [
    {
     "data": {
      "text/html": [
       "<div>\n",
       "<style scoped>\n",
       "    .dataframe tbody tr th:only-of-type {\n",
       "        vertical-align: middle;\n",
       "    }\n",
       "\n",
       "    .dataframe tbody tr th {\n",
       "        vertical-align: top;\n",
       "    }\n",
       "\n",
       "    .dataframe thead th {\n",
       "        text-align: right;\n",
       "    }\n",
       "</style>\n",
       "<table border=\"1\" class=\"dataframe\">\n",
       "  <thead>\n",
       "    <tr style=\"text-align: right;\">\n",
       "      <th></th>\n",
       "      <th>case_number</th>\n",
       "      <th>date</th>\n",
       "      <th>location</th>\n",
       "      <th>subject_statuses</th>\n",
       "      <th>subject_weapon</th>\n",
       "      <th>subjects</th>\n",
       "      <th>subject_count</th>\n",
       "      <th>officers</th>\n",
       "      <th>officer_count</th>\n",
       "      <th>grand_jury_disposition</th>\n",
       "      <th>attorney_general_forms_url</th>\n",
       "      <th>summary_url</th>\n",
       "      <th>summary_text</th>\n",
       "      <th>latitude</th>\n",
       "      <th>longitude</th>\n",
       "    </tr>\n",
       "  </thead>\n",
       "  <tbody>\n",
       "    <tr>\n",
       "      <th>0</th>\n",
       "      <td>44523A</td>\n",
       "      <td>2013-02-23</td>\n",
       "      <td>3000 Chihuahua Street</td>\n",
       "      <td>Injured</td>\n",
       "      <td>Handgun</td>\n",
       "      <td>Curry, James L/M</td>\n",
       "      <td>1</td>\n",
       "      <td>Patino, Michael L/M; Fillingim, Brian W/M</td>\n",
       "      <td>2</td>\n",
       "      <td>No Bill</td>\n",
       "      <td>None</td>\n",
       "      <td>http://dallaspolice.net/reports/OIS/narrative/...</td>\n",
       "      <td>On Saturday, February 23, 2013, at approximate...</td>\n",
       "      <td>NaN</td>\n",
       "      <td>NaN</td>\n",
       "    </tr>\n",
       "    <tr>\n",
       "      <th>1</th>\n",
       "      <td>121982X</td>\n",
       "      <td>2010-05-03</td>\n",
       "      <td>1300 N. Munger Boulevard</td>\n",
       "      <td>Injured</td>\n",
       "      <td>Handgun</td>\n",
       "      <td>Chavez, Gabriel L/M</td>\n",
       "      <td>1</td>\n",
       "      <td>Padilla, Gilbert L/M</td>\n",
       "      <td>1</td>\n",
       "      <td>No Bill</td>\n",
       "      <td>None</td>\n",
       "      <td>http://dallaspolice.net/reports/OIS/narrative/...</td>\n",
       "      <td>On Monday, May 3, 2010, at approximately 8:06 ...</td>\n",
       "      <td>NaN</td>\n",
       "      <td>NaN</td>\n",
       "    </tr>\n",
       "    <tr>\n",
       "      <th>2</th>\n",
       "      <td>605484T</td>\n",
       "      <td>2007-08-12</td>\n",
       "      <td>200 S. Stemmons Freeway</td>\n",
       "      <td>Other</td>\n",
       "      <td>Shotgun</td>\n",
       "      <td>Salinas, Nick L/M</td>\n",
       "      <td>1</td>\n",
       "      <td>Poston, Jerry W/M</td>\n",
       "      <td>1</td>\n",
       "      <td>See Summary</td>\n",
       "      <td>None</td>\n",
       "      <td>http://dallaspolice.net/reports/OIS/narrative/...</td>\n",
       "      <td>On Sunday, August 12, 2007, at approximately 2...</td>\n",
       "      <td>NaN</td>\n",
       "      <td>NaN</td>\n",
       "    </tr>\n",
       "    <tr>\n",
       "      <th>3</th>\n",
       "      <td>384832T</td>\n",
       "      <td>2007-05-26</td>\n",
       "      <td>7900 S. Loop 12</td>\n",
       "      <td>Shoot and Miss</td>\n",
       "      <td>Unarmed</td>\n",
       "      <td>Smith, James B/M; Dews, Antonio B/M; Spearman,...</td>\n",
       "      <td>3</td>\n",
       "      <td>Mondy, Michael B/M</td>\n",
       "      <td>1</td>\n",
       "      <td>None</td>\n",
       "      <td>None</td>\n",
       "      <td>http://dallaspolice.net/reports/OIS/narrative/...</td>\n",
       "      <td>On Saturday, May 26, 2007, at approximately 1:...</td>\n",
       "      <td>NaN</td>\n",
       "      <td>NaN</td>\n",
       "    </tr>\n",
       "    <tr>\n",
       "      <th>4</th>\n",
       "      <td>244659R</td>\n",
       "      <td>2006-04-03</td>\n",
       "      <td>6512 South Loop 12</td>\n",
       "      <td>Injured</td>\n",
       "      <td>Hands</td>\n",
       "      <td>Watkins, Caleb B/M</td>\n",
       "      <td>1</td>\n",
       "      <td>Armstrong, Michael W/M</td>\n",
       "      <td>1</td>\n",
       "      <td>No Bill</td>\n",
       "      <td>None</td>\n",
       "      <td>http://dallaspolice.net/reports/OIS/narrative/...</td>\n",
       "      <td>On Monday, April 3, 2006, at approximately 11:...</td>\n",
       "      <td>NaN</td>\n",
       "      <td>NaN</td>\n",
       "    </tr>\n",
       "    <tr>\n",
       "      <th>...</th>\n",
       "      <td>...</td>\n",
       "      <td>...</td>\n",
       "      <td>...</td>\n",
       "      <td>...</td>\n",
       "      <td>...</td>\n",
       "      <td>...</td>\n",
       "      <td>...</td>\n",
       "      <td>...</td>\n",
       "      <td>...</td>\n",
       "      <td>...</td>\n",
       "      <td>...</td>\n",
       "      <td>...</td>\n",
       "      <td>...</td>\n",
       "      <td>...</td>\n",
       "      <td>...</td>\n",
       "    </tr>\n",
       "    <tr>\n",
       "      <th>214</th>\n",
       "      <td>161616-2016</td>\n",
       "      <td>2016-07-03</td>\n",
       "      <td>7440 Chesterfield Drive</td>\n",
       "      <td>Shoot and Miss</td>\n",
       "      <td>Handgun</td>\n",
       "      <td>Brown, Desroy B/M</td>\n",
       "      <td>1</td>\n",
       "      <td>Crenshaw, Joshua W/M</td>\n",
       "      <td>1</td>\n",
       "      <td>None</td>\n",
       "      <td>None</td>\n",
       "      <td>http://dallaspolice.net/reports/OIS/narrative/...</td>\n",
       "      <td>7440 Chesterfield Drive 161616-2016\\n\\nOn July...</td>\n",
       "      <td>32.65628</td>\n",
       "      <td>-96.869793</td>\n",
       "    </tr>\n",
       "    <tr>\n",
       "      <th>215</th>\n",
       "      <td>141461-2016</td>\n",
       "      <td>2016-06-11</td>\n",
       "      <td>2700 Custer Drive</td>\n",
       "      <td>Shoot and Miss</td>\n",
       "      <td>Vehicle</td>\n",
       "      <td>Unknown B/M</td>\n",
       "      <td>1</td>\n",
       "      <td>Moore, Douglas B/M</td>\n",
       "      <td>1</td>\n",
       "      <td>None</td>\n",
       "      <td>None</td>\n",
       "      <td>http://dallaspolice.net/reports/OIS/narrative/...</td>\n",
       "      <td>2700 Custer Drive 141461-2016\\n\\nOn June 11, 2...</td>\n",
       "      <td>32.70483</td>\n",
       "      <td>-96.779494</td>\n",
       "    </tr>\n",
       "    <tr>\n",
       "      <th>216</th>\n",
       "      <td>089985-2016</td>\n",
       "      <td>2016-04-16</td>\n",
       "      <td>4800 Columbia Ave</td>\n",
       "      <td>Shoot and Miss</td>\n",
       "      <td>Handgun</td>\n",
       "      <td>Unknown L/M</td>\n",
       "      <td>1</td>\n",
       "      <td>Ruben, Fredirick W/M</td>\n",
       "      <td>1</td>\n",
       "      <td>None</td>\n",
       "      <td>None</td>\n",
       "      <td>http://dallaspolice.net/reports/OIS/narrative/...</td>\n",
       "      <td>4800 Columbia Avenue 089985-2016\\n\\nOn April 1...</td>\n",
       "      <td>32.79473</td>\n",
       "      <td>-96.764017</td>\n",
       "    </tr>\n",
       "    <tr>\n",
       "      <th>217</th>\n",
       "      <td>177645-2016</td>\n",
       "      <td>2016-07-23</td>\n",
       "      <td>1716 Chattanooga Place</td>\n",
       "      <td>Shoot and Miss</td>\n",
       "      <td>Handgun</td>\n",
       "      <td>Unknown B/M</td>\n",
       "      <td>1</td>\n",
       "      <td>Rosen, Brett W/M</td>\n",
       "      <td>1</td>\n",
       "      <td>None</td>\n",
       "      <td>None</td>\n",
       "      <td>None</td>\n",
       "      <td>None</td>\n",
       "      <td>32.81664</td>\n",
       "      <td>-96.851409</td>\n",
       "    </tr>\n",
       "    <tr>\n",
       "      <th>218</th>\n",
       "      <td>165193-2016</td>\n",
       "      <td>2016-07-07</td>\n",
       "      <td>801 Main Street</td>\n",
       "      <td>Deceased</td>\n",
       "      <td>Assault Rifle</td>\n",
       "      <td>Johnson, Micah B/M</td>\n",
       "      <td>1</td>\n",
       "      <td>Edwards, Henry W/M; Wells, Giovanni B/M; Junge...</td>\n",
       "      <td>12</td>\n",
       "      <td>None</td>\n",
       "      <td>None</td>\n",
       "      <td>None</td>\n",
       "      <td>None</td>\n",
       "      <td>32.77945</td>\n",
       "      <td>-96.804915</td>\n",
       "    </tr>\n",
       "  </tbody>\n",
       "</table>\n",
       "<p>219 rows × 15 columns</p>\n",
       "</div>"
      ],
      "text/plain": [
       "     case_number        date                  location subject_statuses  \\\n",
       "0         44523A  2013-02-23     3000 Chihuahua Street          Injured   \n",
       "1        121982X  2010-05-03  1300 N. Munger Boulevard          Injured   \n",
       "2        605484T  2007-08-12   200 S. Stemmons Freeway            Other   \n",
       "3        384832T  2007-05-26           7900 S. Loop 12   Shoot and Miss   \n",
       "4        244659R  2006-04-03        6512 South Loop 12          Injured   \n",
       "..           ...         ...                       ...              ...   \n",
       "214  161616-2016  2016-07-03   7440 Chesterfield Drive   Shoot and Miss   \n",
       "215  141461-2016  2016-06-11         2700 Custer Drive   Shoot and Miss   \n",
       "216  089985-2016  2016-04-16         4800 Columbia Ave   Shoot and Miss   \n",
       "217  177645-2016  2016-07-23    1716 Chattanooga Place   Shoot and Miss   \n",
       "218  165193-2016  2016-07-07           801 Main Street         Deceased   \n",
       "\n",
       "    subject_weapon                                           subjects  \\\n",
       "0          Handgun                                   Curry, James L/M   \n",
       "1          Handgun                                Chavez, Gabriel L/M   \n",
       "2          Shotgun                                  Salinas, Nick L/M   \n",
       "3          Unarmed  Smith, James B/M; Dews, Antonio B/M; Spearman,...   \n",
       "4            Hands                                 Watkins, Caleb B/M   \n",
       "..             ...                                                ...   \n",
       "214        Handgun                                  Brown, Desroy B/M   \n",
       "215        Vehicle                                        Unknown B/M   \n",
       "216        Handgun                                        Unknown L/M   \n",
       "217        Handgun                                        Unknown B/M   \n",
       "218  Assault Rifle                                 Johnson, Micah B/M   \n",
       "\n",
       "     subject_count                                           officers  \\\n",
       "0                1          Patino, Michael L/M; Fillingim, Brian W/M   \n",
       "1                1                               Padilla, Gilbert L/M   \n",
       "2                1                                  Poston, Jerry W/M   \n",
       "3                3                                 Mondy, Michael B/M   \n",
       "4                1                             Armstrong, Michael W/M   \n",
       "..             ...                                                ...   \n",
       "214              1                               Crenshaw, Joshua W/M   \n",
       "215              1                                 Moore, Douglas B/M   \n",
       "216              1                               Ruben, Fredirick W/M   \n",
       "217              1                                   Rosen, Brett W/M   \n",
       "218              1  Edwards, Henry W/M; Wells, Giovanni B/M; Junge...   \n",
       "\n",
       "     officer_count grand_jury_disposition attorney_general_forms_url  \\\n",
       "0                2                No Bill                       None   \n",
       "1                1                No Bill                       None   \n",
       "2                1            See Summary                       None   \n",
       "3                1                   None                       None   \n",
       "4                1                No Bill                       None   \n",
       "..             ...                    ...                        ...   \n",
       "214              1                   None                       None   \n",
       "215              1                   None                       None   \n",
       "216              1                   None                       None   \n",
       "217              1                   None                       None   \n",
       "218             12                   None                       None   \n",
       "\n",
       "                                           summary_url  \\\n",
       "0    http://dallaspolice.net/reports/OIS/narrative/...   \n",
       "1    http://dallaspolice.net/reports/OIS/narrative/...   \n",
       "2    http://dallaspolice.net/reports/OIS/narrative/...   \n",
       "3    http://dallaspolice.net/reports/OIS/narrative/...   \n",
       "4    http://dallaspolice.net/reports/OIS/narrative/...   \n",
       "..                                                 ...   \n",
       "214  http://dallaspolice.net/reports/OIS/narrative/...   \n",
       "215  http://dallaspolice.net/reports/OIS/narrative/...   \n",
       "216  http://dallaspolice.net/reports/OIS/narrative/...   \n",
       "217                                               None   \n",
       "218                                               None   \n",
       "\n",
       "                                          summary_text  latitude  longitude  \n",
       "0    On Saturday, February 23, 2013, at approximate...       NaN        NaN  \n",
       "1    On Monday, May 3, 2010, at approximately 8:06 ...       NaN        NaN  \n",
       "2    On Sunday, August 12, 2007, at approximately 2...       NaN        NaN  \n",
       "3    On Saturday, May 26, 2007, at approximately 1:...       NaN        NaN  \n",
       "4    On Monday, April 3, 2006, at approximately 11:...       NaN        NaN  \n",
       "..                                                 ...       ...        ...  \n",
       "214  7440 Chesterfield Drive 161616-2016\\n\\nOn July...  32.65628 -96.869793  \n",
       "215  2700 Custer Drive 141461-2016\\n\\nOn June 11, 2...  32.70483 -96.779494  \n",
       "216  4800 Columbia Avenue 089985-2016\\n\\nOn April 1...  32.79473 -96.764017  \n",
       "217                                               None  32.81664 -96.851409  \n",
       "218                                               None  32.77945 -96.804915  \n",
       "\n",
       "[219 rows x 15 columns]"
      ]
     },
     "execution_count": 21,
     "metadata": {},
     "output_type": "execute_result"
    }
   ],
   "source": [
    "data"
   ]
  },
  {
   "cell_type": "markdown",
   "id": "f8bc6825",
   "metadata": {},
   "source": [
    "### Step 1.d: Explore the length of the DataFrames\n",
    "- What is the length of the DataFrames\n",
    "    - HINT: Apply `len(...)` on the DataFrames\n",
    "- We want to explore data based on officers and data based on subjects, both with incident data.\n",
    "- Notice: It is difficult to create one dataset for both problems\n",
    "- Explore data further to understand why"
   ]
  },
  {
   "cell_type": "code",
   "execution_count": 18,
   "id": "da7e82e8",
   "metadata": {},
   "outputs": [
    {
     "data": {
      "text/plain": [
       "<AxesSubplot:>"
      ]
     },
     "execution_count": 18,
     "metadata": {},
     "output_type": "execute_result"
    },
    {
     "data": {
      "image/png": "[encoded data removed]",
      "text/plain": [
       "<Figure size 432x288 with 1 Axes>"
      ]
     },
     "metadata": {
      "needs_background": "light"
     },
     "output_type": "display_data"
    }
   ],
   "source": [
    "data.plot()"
   ]
  },
  {
   "cell_type": "code",
   "execution_count": null,
   "id": "6af78801",
   "metadata": {},
   "outputs": [],
   "source": []
  },
  {
   "cell_type": "markdown",
   "id": "3a10ad39",
   "metadata": {},
   "source": [
    "### Step 1.e: Read data into dataset\n",
    "- Create first dataset `subject_incidents` as officers joined with incidents.\n",
    "    - What does this dataset give us?\n",
    "    - HINT:\n",
    "    ```SQL\n",
    "    SELECT * FROM table_1 JOIN table_2 ON table_1.column_name_1=table_2.column_name_2\n",
    "    ```\n",
    "    - HINT: You can join on columns `case_number`\n",
    "- Is all data represented?"
   ]
  },
  {
   "cell_type": "code",
   "execution_count": null,
   "id": "7a7bed06",
   "metadata": {},
   "outputs": [],
   "source": [
    "testing=pd.read_sql('')"
   ]
  },
  {
   "cell_type": "code",
   "execution_count": null,
   "id": "71f511c0",
   "metadata": {},
   "outputs": [],
   "source": []
  },
  {
   "cell_type": "code",
   "execution_count": null,
   "id": "e54a0de6",
   "metadata": {},
   "outputs": [],
   "source": []
  },
  {
   "cell_type": "markdown",
   "id": "d57f6db6",
   "metadata": {},
   "source": [
    "## Step 2: Prepare\n",
    "- Explore data\n",
    "- Visualize ideas\n",
    "- Cleaning data"
   ]
  },
  {
   "cell_type": "markdown",
   "id": "24fa32b4",
   "metadata": {},
   "source": [
    "### Step 2.a: Check the data types\n",
    "- A step to get to understand the data better is to explore the data types\n",
    "- Get the data types by `.dtypes`"
   ]
  },
  {
   "cell_type": "code",
   "execution_count": null,
   "id": "1c548da3",
   "metadata": {},
   "outputs": [],
   "source": []
  },
  {
   "cell_type": "markdown",
   "id": "b13c18b2",
   "metadata": {},
   "source": [
    "### Step 2.b: Check for null (missing) values\n",
    "- Data often is missing entries - there can be many reasons for this\n",
    "- We need to deal with that (will do later in course)\n",
    "- Use ```.isna().sum()```"
   ]
  },
  {
   "cell_type": "code",
   "execution_count": null,
   "id": "69aaab7e",
   "metadata": {},
   "outputs": [],
   "source": []
  },
  {
   "cell_type": "markdown",
   "id": "ec6a54bd",
   "metadata": {},
   "source": [
    "### Step 2.c: Explore subject_statuses column\n",
    "- As part of finding useful features let's explore `subject_statuses`\n",
    "- We know that `subject_statuses` is categorical.\n",
    "- Therefore we can use `groupby(...)` and `count()`"
   ]
  },
  {
   "cell_type": "code",
   "execution_count": null,
   "id": "b8c79d3c",
   "metadata": {},
   "outputs": [],
   "source": []
  },
  {
   "cell_type": "markdown",
   "id": "03134574",
   "metadata": {},
   "source": [
    "### Step 2.d: Explore race column\n",
    "- Repeat of previous step on column `race`"
   ]
  },
  {
   "cell_type": "code",
   "execution_count": null,
   "id": "15a48788",
   "metadata": {},
   "outputs": [],
   "source": []
  },
  {
   "cell_type": "markdown",
   "id": "fc75fe4b",
   "metadata": {},
   "source": [
    "### Step 2.e: Explore more columns\n",
    "- Feel free to explore more columns (also called features)"
   ]
  },
  {
   "cell_type": "code",
   "execution_count": null,
   "id": "d3d61eac",
   "metadata": {},
   "outputs": [],
   "source": []
  },
  {
   "cell_type": "markdown",
   "id": "d8231b1f",
   "metadata": {},
   "source": [
    "### Step 2.f: Visualize ideas\n",
    "- We want to make a visual plot of the shooting incident\n",
    "- Let's explore if we can make a plot based on longitude and latitude.\n",
    "    - HINT: use `plot.scatter(x='longitude', y='latitude')`\n",
    "- Then the analysis phase will focus on how to make useful insights with the feature selections."
   ]
  },
  {
   "cell_type": "code",
   "execution_count": null,
   "id": "701b6f3f",
   "metadata": {},
   "outputs": [],
   "source": []
  },
  {
   "cell_type": "markdown",
   "id": "17e523e2",
   "metadata": {},
   "source": [
    "## Step 3: Analyze\n",
    "- Feature selection\n",
    "- Model selection\n",
    "- Analyze data"
   ]
  },
  {
   "cell_type": "markdown",
   "id": "ee7028f9",
   "metadata": {},
   "source": [
    "### Step 3.a: Feature selection\n",
    "- Here we will continue with the features selected feel free to explore other features.\n",
    "- Create a `dataset` with the features: `race`, `subject_statuses`, `latitude`, `longitude`\n",
    "    - HINT: Select the features of the DataFrame `subject_incidents` by filtering with a list of the columns.\n",
    "- To make further processing easier apply `dropna()` to remove missing data."
   ]
  },
  {
   "cell_type": "code",
   "execution_count": null,
   "id": "f4b98635",
   "metadata": {},
   "outputs": [],
   "source": []
  },
  {
   "cell_type": "code",
   "execution_count": null,
   "id": "6bbb54c3",
   "metadata": {},
   "outputs": [],
   "source": []
  },
  {
   "cell_type": "markdown",
   "id": "8849b418",
   "metadata": {},
   "source": [
    "### Step 3.b: How to visualize features\n",
    "- We want to visualize the two features: `race` and `subject_statuses`\n",
    "- A way to visualize data is by color and size.\n",
    "- Idea:\n",
    "    - Map the race features to colors\n",
    "    - Map the subject_statuses to a size"
   ]
  },
  {
   "cell_type": "markdown",
   "id": "6f8a3a8b",
   "metadata": {},
   "source": [
    "### Step 3.b.1: Convert column\n",
    "- The `race` column has the following categories: B, W, A, L\n",
    "- We can map that to color values ([docs](https://matplotlib.org/stable/gallery/color/named_colors.html))\n",
    "- A simple way to map columns is by using `apply` on a lambda-function.\n",
    "    - Create a dict with the mapping:\n",
    "    ```Python\n",
    "mapping = {'B': 'blue', 'W': 'yellow', 'A': 'red', 'L': 'cyan'}\n",
    "```\n",
    "    - Do the mapping with `apply`and `lambda` as follows\n",
    "    ```Python\n",
    "dataset['race'] = dataset['race'].apply(lambda x: mapping[x])\n",
    "```"
   ]
  },
  {
   "cell_type": "code",
   "execution_count": null,
   "id": "2e457e49",
   "metadata": {},
   "outputs": [],
   "source": []
  },
  {
   "cell_type": "markdown",
   "id": "6c101de5",
   "metadata": {},
   "source": [
    "### Step 3.b.2: Convert column\n",
    "- The `subject_statuses` has the following categories: `'1 Deceased 1 Injured', '2 Injured', 'Deceased', 'Deceased Injured', 'Injured', 'Other', 'Shoot and Miss'`\n",
    "- The main categories are: `'Deceased', 'Injured', 'Shoot and Miss'`\n",
    "- A simple way is quite similar to last step.\n",
    "    - Create a mapping of the main categories:\n",
    "    ```Python\n",
    "mapping = {'Deceased': 1000, 'Injured': 500, 'Shoot and Miss': 250}\n",
    "```\n",
    "    - Do the mapping with `apply`and `lambda` as follows\n",
    "    ```Python\n",
    "dataset['subject_statuses'] = dataset['subject_statuses'].apply(lambda x: mapping.get(x, 100))\n",
    "```"
   ]
  },
  {
   "cell_type": "code",
   "execution_count": null,
   "id": "9202feed",
   "metadata": {},
   "outputs": [],
   "source": []
  },
  {
   "cell_type": "markdown",
   "id": "5daf8533",
   "metadata": {},
   "source": [
    "### Step 3.c: Visualize the data\n",
    "- Now we can visualize the data\n",
    "- This can be done with a scatter plot\n",
    "```Python\n",
    "dataset.plot.scatter(x='longitude', y='latitude', s='subject_statuses', c='race', alpha=.5)\n",
    "```\n",
    "- Where `s=` is the size feature and `c=` is the color feature, `figsize=` sets the size of the figure, `alpha=` sets the transparency of the dots."
   ]
  },
  {
   "cell_type": "code",
   "execution_count": null,
   "id": "dce4105b",
   "metadata": {},
   "outputs": [],
   "source": []
  },
  {
   "cell_type": "markdown",
   "id": "b3f35cc5",
   "metadata": {},
   "source": [
    "## Step 4: Report\n",
    "- Present findings\n",
    "- Visualize results\n",
    "- Credibility counts"
   ]
  },
  {
   "cell_type": "markdown",
   "id": "0b66580f",
   "metadata": {},
   "source": [
    "### Step 4.a: Present a chart\n",
    "- The goal here is to present your message\n",
    "- Visualize one chart\n",
    "- Add a headline (title) to give the audience a message"
   ]
  },
  {
   "cell_type": "code",
   "execution_count": null,
   "id": "761f35b6",
   "metadata": {},
   "outputs": [],
   "source": []
  },
  {
   "cell_type": "markdown",
   "id": "b9210fdb",
   "metadata": {},
   "source": [
    "### Step 4.b (Optional): Further improvements\n",
    "- Ideas to improve the visualization\n",
    "- Add description (legends) with color and size description.\n",
    "- Visualize it on a map\n",
    "    - You could use [folium](https://python-visualization.github.io/folium/)\n",
    "    - Explore [quick guide](https://python-visualization.github.io/folium/quickstart.html)"
   ]
  },
  {
   "cell_type": "code",
   "execution_count": null,
   "id": "5966c199",
   "metadata": {},
   "outputs": [],
   "source": []
  },
  {
   "cell_type": "code",
   "execution_count": null,
   "id": "91203e83",
   "metadata": {},
   "outputs": [],
   "source": []
  },
  {
   "cell_type": "code",
   "execution_count": null,
   "id": "968ddebf",
   "metadata": {},
   "outputs": [],
   "source": []
  },
  {
   "cell_type": "code",
   "execution_count": null,
   "id": "1f6693a4",
   "metadata": {},
   "outputs": [],
   "source": []
  },
  {
   "cell_type": "code",
   "execution_count": null,
   "id": "0cbc1803",
   "metadata": {},
   "outputs": [],
   "source": []
  },
  {
   "cell_type": "code",
   "execution_count": null,
   "id": "69d626cb",
   "metadata": {},
   "outputs": [],
   "source": []
  },
  {
   "cell_type": "markdown",
   "id": "566fc854",
   "metadata": {},
   "source": [
    "## Step 5: Actions\n",
    "- Use insights\n",
    "- Measure impact\n",
    "- Main goal"
   ]
  },
  {
   "cell_type": "markdown",
   "id": "6a752369",
   "metadata": {},
   "source": [
    "### Step 5.a (Optional): Are there any insights?\n",
    "- Any insights you want to highlight?\n",
    "- Any future measurements?"
   ]
  },
  {
   "cell_type": "code",
   "execution_count": null,
   "id": "2e3f8a40",
   "metadata": {},
   "outputs": [],
   "source": []
  },
  {
   "cell_type": "code",
   "execution_count": null,
   "id": "31639b7a",
   "metadata": {},
   "outputs": [],
   "source": []
  }
 ],
 "metadata": {
  "kernelspec": {
   "display_name": "Python 3 (ipykernel)",
   "language": "python",
   "name": "python3"
  },
  "language_info": {
   "codemirror_mode": {
    "name": "ipython",
    "version": 3
   },
   "file_extension": ".py",
   "mimetype": "text/x-python",
   "name": "python",
   "nbconvert_exporter": "python",
   "pygments_lexer": "ipython3",
   "version": "3.9.7"
  }
 },
 "nbformat": 4,
 "nbformat_minor": 5
}
