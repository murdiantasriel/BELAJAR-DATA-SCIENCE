{
 "cells": [
  {
   "cell_type": "code",
   "execution_count": 1,
   "id": "59668af7",
   "metadata": {},
   "outputs": [
    {
     "name": "stdout",
     "output_type": "stream",
     "text": [
      "Collecting fuzzy-c-means\n",
      "  Using cached fuzzy_c_means-1.7.0-py3-none-any.whl (9.0 kB)\n",
      "Requirement already satisfied: tabulate<0.9.0,>=0.8.9 in c:\\users\\msi\\anaconda3\\lib\\site-packages (from fuzzy-c-means) (0.8.10)\n",
      "Requirement already satisfied: typer<0.5.0,>=0.4.0 in c:\\users\\msi\\anaconda3\\lib\\site-packages (from fuzzy-c-means) (0.4.2)\n",
      "Collecting joblib<2.0.0,>=1.2.0\n",
      "  Using cached joblib-1.2.0-py3-none-any.whl (297 kB)\n",
      "Requirement already satisfied: tqdm<5.0.0,>=4.64.1 in c:\\users\\msi\\anaconda3\\lib\\site-packages (from fuzzy-c-means) (4.64.1)\n",
      "Requirement already satisfied: pydantic<2.0.0,>=1.9.0 in c:\\users\\msi\\anaconda3\\lib\\site-packages (from fuzzy-c-means) (1.10.2)\n",
      "Requirement already satisfied: numpy<2.0.0,>=1.21.1 in c:\\users\\msi\\anaconda3\\lib\\site-packages (from fuzzy-c-means) (1.24.0)\n",
      "Requirement already satisfied: typing-extensions>=4.1.0 in c:\\users\\msi\\anaconda3\\lib\\site-packages (from pydantic<2.0.0,>=1.9.0->fuzzy-c-means) (4.4.0)\n",
      "Requirement already satisfied: colorama in c:\\users\\msi\\anaconda3\\lib\\site-packages (from tqdm<5.0.0,>=4.64.1->fuzzy-c-means) (0.4.4)\n",
      "Requirement already satisfied: click<9.0.0,>=7.1.1 in c:\\users\\msi\\anaconda3\\lib\\site-packages (from typer<0.5.0,>=0.4.0->fuzzy-c-means) (8.0.3)\n",
      "Installing collected packages: joblib, fuzzy-c-means\n",
      "  Attempting uninstall: joblib\n",
      "    Found existing installation: joblib 1.1.0\n",
      "    Uninstalling joblib-1.1.0:\n",
      "      Successfully uninstalled joblib-1.1.0\n",
      "Successfully installed fuzzy-c-means-1.7.0 joblib-1.2.0\n",
      "Note: you may need to restart the kernel to use updated packages.\n"
     ]
    }
   ],
   "source": [
    "pip install fuzzy-c-means"
   ]
  },
  {
   "cell_type": "code",
   "execution_count": null,
   "id": "262e59d4",
   "metadata": {},
   "outputs": [],
   "source": [
    "from fcmeans import FCM\n",
    "impor"
   ]
  }
 ],
 "metadata": {
  "kernelspec": {
   "display_name": "Python 3 (ipykernel)",
   "language": "python",
   "name": "python3"
  },
  "language_info": {
   "codemirror_mode": {
    "name": "ipython",
    "version": 3
   },
   "file_extension": ".py",
   "mimetype": "text/x-python",
   "name": "python",
   "nbconvert_exporter": "python",
   "pygments_lexer": "ipython3",
   "version": "3.9.7"
  }
 },
 "nbformat": 4,
 "nbformat_minor": 5
}
